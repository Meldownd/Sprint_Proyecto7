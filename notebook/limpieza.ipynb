{
 "cells": [
  {
   "cell_type": "code",
   "execution_count": null,
   "id": "9f789f39",
   "metadata": {},
   "outputs": [],
   "source": [
    "import pandas as pd\n",
    "import numpy as np\n",
    "import matplotlib.pyplot as plt\n",
    "import seaborn as sns\n",
    "import plotly.express as px"
   ]
  },
  {
   "cell_type": "code",
   "execution_count": null,
   "id": "92aff154",
   "metadata": {},
   "outputs": [],
   "source": [
    "df = pd.read_csv(\"../csv/vehicles_us.csv\")"
   ]
  },
  {
   "cell_type": "code",
   "execution_count": null,
   "id": "3681a09f",
   "metadata": {},
   "outputs": [],
   "source": [
    "def cleaning(data):\n",
    "    \"\"\"\n",
    "    Limpieza básica del dataset de vehículos.\n",
    "\n",
    "    Pasos:\n",
    "    1. Rellenar valores faltantes (fillna) según el tipo de columna.\n",
    "    2. Estandarizar formatos y tipos de datos.\n",
    "    3. Aplicar correcciones específicas por columna.\n",
    "    \"\"\"\n",
    "\n",
    "    # ----------------------------------------------------------------------#\n",
    "    # 1️⃣ RELLENAR VALORES FALTANTES\n",
    "    # ----------------------------------------------------------------------#\n",
    "    # Sustituye 1 → 'Yes' y NaN → 'No' en columna 'is_4wd'\n",
    "    data['is_4wd'] = data['is_4wd'].replace({1: 'Yes', np.nan: 'No'})\n",
    "\n",
    "    # Completa odometer, cylinders y model_year con 0 si están vacíos\n",
    "    data['odometer'] = data['odometer'].fillna(0)\n",
    "    data['cylinders'] = data['cylinders'].fillna(0)\n",
    "    data['model_year'] = data['model_year'].fillna(0)\n",
    "\n",
    "    # Completa paint_color con un valor genérico\n",
    "    data['paint_color'] = data['paint_color'].fillna('random')\n",
    "\n",
    "    # Rellena 'cylinders' según el modo de cada modelo (si falta y existe)\n",
    "    data['cylinders'] = data.groupby(\"model\")['cylinders'].transform(\n",
    "        lambda x: x.fillna(x.mode()[0] if not x.mode().empty else np.nan)\n",
    "    )\n",
    "\n",
    "    # ----------------------------------------------------------------------#\n",
    "    # 2️⃣ CAMBIOS DE TIPO DE DATO\n",
    "    # ----------------------------------------------------------------------#\n",
    "    # Convierte fechas y números a su tipo correcto\n",
    "    data['date_posted'] = pd.to_datetime(data['date_posted'])\n",
    "    data['odometer'] = data['odometer'].astype(int)\n",
    "    data['cylinders'] = data['cylinders'].astype(int)\n",
    "    data['model_year'] = data['model_year'].astype(int)\n",
    "\n",
    "    # ----------------------------------------------------------------------#\n",
    "    # 3️⃣ RETORNAR DATA LIMPIA\n",
    "    # ----------------------------------------------------------------------#\n",
    "    return data\n",
    "\n",
    "\n",
    "df_clean = cleaning(df)"
   ]
  },
  {
   "cell_type": "markdown",
   "id": "a052495f",
   "metadata": {},
   "source": [
    "## Grafica uno"
   ]
  },
  {
   "cell_type": "code",
   "execution_count": null,
   "id": "265cb7d2",
   "metadata": {},
   "outputs": [],
   "source": [
    "fig = px.scatter(\n",
    "    df,\n",
    "    x=\"odometer\",             # eje X: kilometraje\n",
    "    y=\"price\",                # eje Y: precio\n",
    "    color=\"condition\",        # color por condición del vehículo\n",
    "    size=\"model_year\",        # tamaño del punto según el año\n",
    "    hover_data=[\"model\", \"type\"],  # información al pasar el cursor\n",
    "    title=\"Relación entre kilometraje, precio y condición del vehículo\",\n",
    "    labels={\n",
    "        \"odometer\": \"Kilometraje recorrido\",\n",
    "        \"price\": \"Precio (USD)\",\n",
    "        \"condition\": \"Condición del vehículo\",\n",
    "        \"model_year\": \"Año del modelo\"\n",
    "    },\n",
    "    opacity=0.6\n",
    ")\n",
    "\n",
    "fig.show()"
   ]
  },
  {
   "cell_type": "markdown",
   "id": "2c585103",
   "metadata": {},
   "source": [
    "## Grafica dos"
   ]
  },
  {
   "cell_type": "code",
   "execution_count": null,
   "id": "f438eab2",
   "metadata": {},
   "outputs": [],
   "source": [
    "cond_mean = df.groupby(\"condition\", as_index=False)[\"price\"].mean()\n",
    "\n",
    "fig2 = px.bar(\n",
    "    cond_mean,\n",
    "    x=\"condition\",\n",
    "    y=\"price\",\n",
    "    title=\"Precio promedio según condición del vehículo\",\n",
    "    labels={\"condition\": \"Condición\", \"price\": \"Precio promedio (USD)\"},\n",
    ")\n",
    "fig2.update_traces(marker_color=\"skyblue\")\n",
    "fig2.show()"
   ]
  },
  {
   "cell_type": "markdown",
   "id": "8d8385ce",
   "metadata": {},
   "source": [
    "## Grafica tres"
   ]
  },
  {
   "cell_type": "code",
   "execution_count": null,
   "id": "b73eb6d0",
   "metadata": {},
   "outputs": [],
   "source": [
    "type_mean = df.groupby(\"type\", as_index=False)[\"price\"].mean()\n",
    "\n",
    "fig4 = px.bar(\n",
    "    type_mean,\n",
    "    x=\"price\",\n",
    "    y=\"type\",\n",
    "    orientation=\"h\",\n",
    "    title=\"Precio promedio por tipo de vehículo\",\n",
    "    labels={\"type\": \"Tipo de vehículo\", \"price\": \"Precio promedio (USD)\"},\n",
    ")\n",
    "fig4.update_traces(marker_color=\"coral\")\n",
    "fig4.show()"
   ]
  }
 ],
 "metadata": {
  "kernelspec": {
   "display_name": "proyecto7",
   "language": "python",
   "name": "python3"
  },
  "language_info": {
   "codemirror_mode": {
    "name": "ipython",
    "version": 3
   },
   "file_extension": ".py",
   "mimetype": "text/x-python",
   "name": "python",
   "nbconvert_exporter": "python",
   "pygments_lexer": "ipython3",
   "version": "3.13.5"
  }
 },
 "nbformat": 4,
 "nbformat_minor": 5
}
